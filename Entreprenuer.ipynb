{
 "cells": [
  {
   "cell_type": "code",
   "execution_count": 4,
   "id": "90e78da4",
   "metadata": {},
   "outputs": [],
   "source": [
    "import pandas as pd\n",
    "import numpy as np\n",
    "import matplotlib.pyplot as plt\n",
    "import seaborn as sns"
   ]
  },
  {
   "cell_type": "code",
   "execution_count": 5,
   "id": "6547d4b9",
   "metadata": {},
   "outputs": [
    {
     "data": {
      "text/html": [
       "<div>\n",
       "<style scoped>\n",
       "    .dataframe tbody tr th:only-of-type {\n",
       "        vertical-align: middle;\n",
       "    }\n",
       "\n",
       "    .dataframe tbody tr th {\n",
       "        vertical-align: top;\n",
       "    }\n",
       "\n",
       "    .dataframe thead th {\n",
       "        text-align: right;\n",
       "    }\n",
       "</style>\n",
       "<table border=\"1\" class=\"dataframe\">\n",
       "  <thead>\n",
       "    <tr style=\"text-align: right;\">\n",
       "      <th></th>\n",
       "      <th>EducationSector</th>\n",
       "      <th>IndividualProject</th>\n",
       "      <th>Age</th>\n",
       "      <th>Gender</th>\n",
       "      <th>City</th>\n",
       "      <th>Influenced</th>\n",
       "      <th>Perseverance</th>\n",
       "      <th>DesireToTakeInitiative</th>\n",
       "      <th>Competitiveness</th>\n",
       "      <th>SelfReliance</th>\n",
       "      <th>StrongNeedToAchieve</th>\n",
       "      <th>SelfConfidence</th>\n",
       "      <th>GoodPhysicalHealth</th>\n",
       "      <th>MentalDisorder</th>\n",
       "      <th>KeyTraits</th>\n",
       "      <th>ReasonsForLack</th>\n",
       "      <th>y</th>\n",
       "    </tr>\n",
       "  </thead>\n",
       "  <tbody>\n",
       "    <tr>\n",
       "      <th>0</th>\n",
       "      <td>Engineering Sciences</td>\n",
       "      <td>No</td>\n",
       "      <td>19</td>\n",
       "      <td>Male</td>\n",
       "      <td>Yes</td>\n",
       "      <td>No</td>\n",
       "      <td>2</td>\n",
       "      <td>2</td>\n",
       "      <td>3</td>\n",
       "      <td>3</td>\n",
       "      <td>2</td>\n",
       "      <td>2</td>\n",
       "      <td>3</td>\n",
       "      <td>Yes</td>\n",
       "      <td>Passion</td>\n",
       "      <td>NaN</td>\n",
       "      <td>1</td>\n",
       "    </tr>\n",
       "    <tr>\n",
       "      <th>1</th>\n",
       "      <td>Engineering Sciences</td>\n",
       "      <td>Yes</td>\n",
       "      <td>22</td>\n",
       "      <td>Male</td>\n",
       "      <td>No</td>\n",
       "      <td>Yes</td>\n",
       "      <td>3</td>\n",
       "      <td>3</td>\n",
       "      <td>3</td>\n",
       "      <td>4</td>\n",
       "      <td>4</td>\n",
       "      <td>3</td>\n",
       "      <td>4</td>\n",
       "      <td>Yes</td>\n",
       "      <td>Vision</td>\n",
       "      <td>Just not interested! (Want to work in the corp...</td>\n",
       "      <td>0</td>\n",
       "    </tr>\n",
       "    <tr>\n",
       "      <th>2</th>\n",
       "      <td>Engineering Sciences</td>\n",
       "      <td>No</td>\n",
       "      <td>18</td>\n",
       "      <td>Male</td>\n",
       "      <td>Yes</td>\n",
       "      <td>No</td>\n",
       "      <td>3</td>\n",
       "      <td>4</td>\n",
       "      <td>3</td>\n",
       "      <td>3</td>\n",
       "      <td>3</td>\n",
       "      <td>4</td>\n",
       "      <td>4</td>\n",
       "      <td>No</td>\n",
       "      <td>Passion</td>\n",
       "      <td>Not willing to start a venture in India and wa...</td>\n",
       "      <td>0</td>\n",
       "    </tr>\n",
       "    <tr>\n",
       "      <th>3</th>\n",
       "      <td>Engineering Sciences</td>\n",
       "      <td>Yes</td>\n",
       "      <td>20</td>\n",
       "      <td>Male</td>\n",
       "      <td>Yes</td>\n",
       "      <td>Yes</td>\n",
       "      <td>3</td>\n",
       "      <td>3</td>\n",
       "      <td>3</td>\n",
       "      <td>3</td>\n",
       "      <td>4</td>\n",
       "      <td>3</td>\n",
       "      <td>3</td>\n",
       "      <td>No</td>\n",
       "      <td>Resilience</td>\n",
       "      <td>Not able to take a Financial Risk</td>\n",
       "      <td>0</td>\n",
       "    </tr>\n",
       "    <tr>\n",
       "      <th>4</th>\n",
       "      <td>Engineering Sciences</td>\n",
       "      <td>Yes</td>\n",
       "      <td>19</td>\n",
       "      <td>Male</td>\n",
       "      <td>Yes</td>\n",
       "      <td>Yes</td>\n",
       "      <td>2</td>\n",
       "      <td>3</td>\n",
       "      <td>3</td>\n",
       "      <td>3</td>\n",
       "      <td>4</td>\n",
       "      <td>3</td>\n",
       "      <td>2</td>\n",
       "      <td>Yes</td>\n",
       "      <td>Vision</td>\n",
       "      <td>NaN</td>\n",
       "      <td>1</td>\n",
       "    </tr>\n",
       "  </tbody>\n",
       "</table>\n",
       "</div>"
      ],
      "text/plain": [
       "        EducationSector IndividualProject  Age Gender City Influenced  \\\n",
       "0  Engineering Sciences                No   19   Male  Yes         No   \n",
       "1  Engineering Sciences               Yes   22   Male   No        Yes   \n",
       "2  Engineering Sciences                No   18   Male  Yes         No   \n",
       "3  Engineering Sciences               Yes   20   Male  Yes        Yes   \n",
       "4  Engineering Sciences               Yes   19   Male  Yes        Yes   \n",
       "\n",
       "   Perseverance  DesireToTakeInitiative  Competitiveness  SelfReliance  \\\n",
       "0             2                       2                3             3   \n",
       "1             3                       3                3             4   \n",
       "2             3                       4                3             3   \n",
       "3             3                       3                3             3   \n",
       "4             2                       3                3             3   \n",
       "\n",
       "   StrongNeedToAchieve  SelfConfidence  GoodPhysicalHealth MentalDisorder  \\\n",
       "0                    2               2                   3            Yes   \n",
       "1                    4               3                   4            Yes   \n",
       "2                    3               4                   4             No   \n",
       "3                    4               3                   3             No   \n",
       "4                    4               3                   2            Yes   \n",
       "\n",
       "    KeyTraits                                     ReasonsForLack  y  \n",
       "0     Passion                                                NaN  1  \n",
       "1      Vision  Just not interested! (Want to work in the corp...  0  \n",
       "2     Passion  Not willing to start a venture in India and wa...  0  \n",
       "3  Resilience                  Not able to take a Financial Risk  0  \n",
       "4      Vision                                                NaN  1  "
      ]
     },
     "execution_count": 5,
     "metadata": {},
     "output_type": "execute_result"
    }
   ],
   "source": [
    "file = 'data.csv'\n",
    "df = pd.read_csv(file)\n",
    "df.head()"
   ]
  },
  {
   "cell_type": "code",
   "execution_count": 6,
   "id": "348b6f9c",
   "metadata": {},
   "outputs": [
    {
     "data": {
      "text/plain": [
       "array([nan,\n",
       "       'Just not interested! (Want to work in the corporate sector, or for the government or pursue research or something else)',\n",
       "       'Not willing to start a venture in India and waiting for future relocation',\n",
       "       'Not able to take a Financial Risk',\n",
       "       'Just not interested! (Want to work in the corporate sector, or for the government or pursue research or something else), Academic Pressure, Lack of Knowledge, Not able to take a Financial Risk',\n",
       "       'Academic Pressure, Lack of Knowledge, Not able to take a Financial Risk',\n",
       "       'Just not interested! (Want to work in the corporate sector, or for the government or pursue research or something else), Academic Pressure, Parental Pressure',\n",
       "       'Academic Pressure, Lack of Knowledge, Mental Block',\n",
       "       'Lack of Knowledge',\n",
       "       'Academic Pressure, Unwillingness to take risk, Lack of Knowledge',\n",
       "       'Just not interested! (Want to work in the corporate sector, or for the government or pursue research or something else), Lack of Knowledge, Parental Pressure, Mental Block',\n",
       "       'Unwillingness to take risk, Lack of Knowledge, Not able to take a Financial Risk',\n",
       "       'Just not interested! (Want to work in the corporate sector, or for the government or pursue research or something else), Unwillingness to take risk, Lack of Knowledge',\n",
       "       'Just not interested! (Want to work in the corporate sector, or for the government or pursue research or something else), Academic Pressure, Unwillingness to take risk, Lack of Knowledge, Parental Pressure, Not able to take a Financial Risk',\n",
       "       'Academic Pressure, Lack of Knowledge',\n",
       "       'Unwillingness to take risk',\n",
       "       'Academic Pressure, Lack of Knowledge, Parental Pressure, Mental Block, Not able to take a Financial Risk',\n",
       "       'Lack of Knowledge, Not willing to start a venture in India and waiting for future relocation',\n",
       "       'Academic Pressure',\n",
       "       'Just not interested! (Want to work in the corporate sector, or for the government or pursue research or something else), Academic Pressure, Unwillingness to take risk, Lack of Knowledge, Parental Pressure, Mental Block, Not able to take a Financial Risk, Not willing to start a venture in India and waiting for future relocation',\n",
       "       'Just not interested! (Want to work in the corporate sector, or for the government or pursue research or something else), Lack of Knowledge',\n",
       "       'Lack of Knowledge, Not able to take a Financial Risk',\n",
       "       'Lack of Knowledge, Parental Pressure',\n",
       "       'Just not interested! (Want to work in the corporate sector, or for the government or pursue research or something else), Not willing to start a venture in India and waiting for future relocation',\n",
       "       'Just not interested! (Want to work in the corporate sector, or for the government or pursue research or something else), Academic Pressure, Not able to take a Financial Risk',\n",
       "       'Parental Pressure, Not able to take a Financial Risk, Not willing to start a venture in India and waiting for future relocation',\n",
       "       'Just not interested! (Want to work in the corporate sector, or for the government or pursue research or something else), Academic Pressure, Lack of Knowledge',\n",
       "       'Academic Pressure, Not able to take a Financial Risk',\n",
       "       'Mental Block',\n",
       "       'Just not interested! (Want to work in the corporate sector, or for the government or pursue research or something else), Lack of Knowledge, Not able to take a Financial Risk, Not willing to start a venture in India and waiting for future relocation',\n",
       "       'Just not interested! (Want to work in the corporate sector, or for the government or pursue research or something else), Lack of Knowledge, Not able to take a Financial Risk',\n",
       "       'Academic Pressure, Unwillingness to take risk, Lack of Knowledge, Parental Pressure, Mental Block, Not able to take a Financial Risk, Not willing to start a venture in India and waiting for future relocation',\n",
       "       'Academic Pressure, Lack of Knowledge, Not able to take a Financial Risk, Not willing to start a venture in India and waiting for future relocation',\n",
       "       'Academic Pressure, Lack of Knowledge, Parental Pressure',\n",
       "       'Just not interested! (Want to work in the corporate sector, or for the government or pursue research or something else), Unwillingness to take risk',\n",
       "       'Academic Pressure, Unwillingness to take risk, Parental Pressure, Not able to take a Financial Risk',\n",
       "       'Not able to take a Financial Risk, Not willing to start a venture in India and waiting for future relocation',\n",
       "       'Lack of Knowledge, Parental Pressure, Mental Block, Not able to take a Financial Risk',\n",
       "       'Academic Pressure, Unwillingness to take risk, Not able to take a Financial Risk',\n",
       "       'Parental Pressure',\n",
       "       'Just not interested! (Want to work in the corporate sector, or for the government or pursue research or something else), Not able to take a Financial Risk',\n",
       "       'Just not interested! (Want to work in the corporate sector, or for the government or pursue research or something else), Academic Pressure, Lack of Knowledge, Parental Pressure, Not able to take a Financial Risk',\n",
       "       'Lack of Knowledge, Mental Block, Not able to take a Financial Risk',\n",
       "       'Lack of Knowledge, Mental Block',\n",
       "       'Just not interested! (Want to work in the corporate sector, or for the government or pursue research or something else), Academic Pressure'],\n",
       "      dtype=object)"
      ]
     },
     "execution_count": 6,
     "metadata": {},
     "output_type": "execute_result"
    }
   ],
   "source": [
    "df['ReasonsForLack'].unique()"
   ]
  },
  {
   "cell_type": "code",
   "execution_count": 7,
   "id": "793affc7",
   "metadata": {},
   "outputs": [],
   "source": [
    "#Filling Null values with No reaso\n",
    "df['ReasonsForLack'] = df['ReasonsForLack'].fillna('No Reason')"
   ]
  },
  {
   "cell_type": "code",
   "execution_count": 8,
   "id": "60eb5aae",
   "metadata": {},
   "outputs": [],
   "source": [
    "#Cleaning up the column for further preprocessing\n",
    "df['ReasonsForLack'] = df['ReasonsForLack'].str.replace(',,',\n",
    "                                 ',',regex=False)\n",
    "df['ReasonsForLack'] = df['ReasonsForLack'].str.replace('interested, ',\n",
    "                                                       'interested')"
   ]
  },
  {
   "cell_type": "code",
   "execution_count": 9,
   "id": "b5078cc2",
   "metadata": {},
   "outputs": [
    {
     "data": {
      "text/plain": [
       "array(['No Reason',\n",
       "       'Just not interested! (Want to work in the corporate sector, or for the government or pursue research or something else)',\n",
       "       'Not willing to start a venture in India and waiting for future relocation',\n",
       "       'Not able to take a Financial Risk',\n",
       "       'Just not interested! (Want to work in the corporate sector, or for the government or pursue research or something else), Academic Pressure, Lack of Knowledge, Not able to take a Financial Risk',\n",
       "       'Academic Pressure, Lack of Knowledge, Not able to take a Financial Risk',\n",
       "       'Just not interested! (Want to work in the corporate sector, or for the government or pursue research or something else), Academic Pressure, Parental Pressure',\n",
       "       'Academic Pressure, Lack of Knowledge, Mental Block',\n",
       "       'Lack of Knowledge',\n",
       "       'Academic Pressure, Unwillingness to take risk, Lack of Knowledge',\n",
       "       'Just not interested! (Want to work in the corporate sector, or for the government or pursue research or something else), Lack of Knowledge, Parental Pressure, Mental Block',\n",
       "       'Unwillingness to take risk, Lack of Knowledge, Not able to take a Financial Risk',\n",
       "       'Just not interested! (Want to work in the corporate sector, or for the government or pursue research or something else), Unwillingness to take risk, Lack of Knowledge',\n",
       "       'Just not interested! (Want to work in the corporate sector, or for the government or pursue research or something else), Academic Pressure, Unwillingness to take risk, Lack of Knowledge, Parental Pressure, Not able to take a Financial Risk',\n",
       "       'Academic Pressure, Lack of Knowledge',\n",
       "       'Unwillingness to take risk',\n",
       "       'Academic Pressure, Lack of Knowledge, Parental Pressure, Mental Block, Not able to take a Financial Risk',\n",
       "       'Lack of Knowledge, Not willing to start a venture in India and waiting for future relocation',\n",
       "       'Academic Pressure',\n",
       "       'Just not interested! (Want to work in the corporate sector, or for the government or pursue research or something else), Academic Pressure, Unwillingness to take risk, Lack of Knowledge, Parental Pressure, Mental Block, Not able to take a Financial Risk, Not willing to start a venture in India and waiting for future relocation',\n",
       "       'Just not interested! (Want to work in the corporate sector, or for the government or pursue research or something else), Lack of Knowledge',\n",
       "       'Lack of Knowledge, Not able to take a Financial Risk',\n",
       "       'Lack of Knowledge, Parental Pressure',\n",
       "       'Just not interested! (Want to work in the corporate sector, or for the government or pursue research or something else), Not willing to start a venture in India and waiting for future relocation',\n",
       "       'Just not interested! (Want to work in the corporate sector, or for the government or pursue research or something else), Academic Pressure, Not able to take a Financial Risk',\n",
       "       'Parental Pressure, Not able to take a Financial Risk, Not willing to start a venture in India and waiting for future relocation',\n",
       "       'Just not interested! (Want to work in the corporate sector, or for the government or pursue research or something else), Academic Pressure, Lack of Knowledge',\n",
       "       'Academic Pressure, Not able to take a Financial Risk',\n",
       "       'Mental Block',\n",
       "       'Just not interested! (Want to work in the corporate sector, or for the government or pursue research or something else), Lack of Knowledge, Not able to take a Financial Risk, Not willing to start a venture in India and waiting for future relocation',\n",
       "       'Just not interested! (Want to work in the corporate sector, or for the government or pursue research or something else), Lack of Knowledge, Not able to take a Financial Risk',\n",
       "       'Academic Pressure, Unwillingness to take risk, Lack of Knowledge, Parental Pressure, Mental Block, Not able to take a Financial Risk, Not willing to start a venture in India and waiting for future relocation',\n",
       "       'Academic Pressure, Lack of Knowledge, Not able to take a Financial Risk, Not willing to start a venture in India and waiting for future relocation',\n",
       "       'Academic Pressure, Lack of Knowledge, Parental Pressure',\n",
       "       'Just not interested! (Want to work in the corporate sector, or for the government or pursue research or something else), Unwillingness to take risk',\n",
       "       'Academic Pressure, Unwillingness to take risk, Parental Pressure, Not able to take a Financial Risk',\n",
       "       'Not able to take a Financial Risk, Not willing to start a venture in India and waiting for future relocation',\n",
       "       'Lack of Knowledge, Parental Pressure, Mental Block, Not able to take a Financial Risk',\n",
       "       'Academic Pressure, Unwillingness to take risk, Not able to take a Financial Risk',\n",
       "       'Parental Pressure',\n",
       "       'Just not interested! (Want to work in the corporate sector, or for the government or pursue research or something else), Not able to take a Financial Risk',\n",
       "       'Just not interested! (Want to work in the corporate sector, or for the government or pursue research or something else), Academic Pressure, Lack of Knowledge, Parental Pressure, Not able to take a Financial Risk',\n",
       "       'Lack of Knowledge, Mental Block, Not able to take a Financial Risk',\n",
       "       'Lack of Knowledge, Mental Block',\n",
       "       'Just not interested! (Want to work in the corporate sector, or for the government or pursue research or something else), Academic Pressure'],\n",
       "      dtype=object)"
      ]
     },
     "execution_count": 9,
     "metadata": {},
     "output_type": "execute_result"
    }
   ],
   "source": [
    "df['ReasonsForLack'].unique()"
   ]
  },
  {
   "cell_type": "code",
   "execution_count": 10,
   "id": "f68c9f7c",
   "metadata": {},
   "outputs": [
    {
     "data": {
      "text/plain": [
       "array(['No Reason',\n",
       "       'Just not interested! (Want to work in the corporate sector',\n",
       "       'Not willing to start a venture in India and waiting for future relocation',\n",
       "       'Not able to take a Financial Risk', 'Academic Pressure',\n",
       "       'Lack of Knowledge', 'Unwillingness to take risk',\n",
       "       'Parental Pressure', 'Mental Block'], dtype=object)"
      ]
     },
     "execution_count": 10,
     "metadata": {},
     "output_type": "execute_result"
    }
   ],
   "source": [
    "#Splitting with , delimeter to get the unique values of the column\n",
    "df['ReasonsForLack'].str.split(', ', expand=True)[0].unique()"
   ]
  },
  {
   "cell_type": "code",
   "execution_count": 11,
   "id": "19dead7b",
   "metadata": {},
   "outputs": [],
   "source": [
    "df['ReasonsForLack'] = df['ReasonsForLack'].str.replace('Just not interested! (Want to work in the corporate sector, or for the government or pursue research or something else)',\n",
    "                                 'Just not interested, ',regex=False)"
   ]
  },
  {
   "cell_type": "code",
   "execution_count": 12,
   "id": "f3a61a97",
   "metadata": {},
   "outputs": [],
   "source": [
    "#Making new columns with bool type data for each unique element in ReasonsForLack\n",
    "df['No Reason'] = df['ReasonsForLack'].str.contains('No Reason')\n",
    "df['Just not interested'] = df['ReasonsForLack'].str.contains('Just not interested')\n",
    "df['waiting for future relocation'] = df['ReasonsForLack'].str.contains('waiting for future relocation')\n",
    "df['Financial Risk'] = df['ReasonsForLack'].str.contains('Not able to take a Financial Risk')\n",
    "df['Academic Pressure'] = df['ReasonsForLack'].str.contains('Academic Pressure')\n",
    "df['Lack of Knowledge'] = df['ReasonsForLack'].str.contains('Lack of Knowledge')\n",
    "df['Unwillingness to take risk'] = df['ReasonsForLack'].str.contains('Unwillingness to take risk')\n",
    "df['Parental Pressure'] = df['ReasonsForLack'].str.contains('Parental Pressure')\n",
    "df['Mental Block'] = df['ReasonsForLack'].str.contains('Mental Block')"
   ]
  },
  {
   "cell_type": "code",
   "execution_count": 13,
   "id": "420bad90",
   "metadata": {},
   "outputs": [],
   "source": [
    "#Original column not required, so dropped\n",
    "df = df.drop(['ReasonsForLack'],axis=1)"
   ]
  },
  {
   "cell_type": "code",
   "execution_count": null,
   "id": "26e29d4e",
   "metadata": {},
   "outputs": [],
   "source": [
    "Checking label imbalance\n",
    "plt.figure(figsize=(20,10))\n",
    "plt.title(\"Label Count\")\n",
    "sns.countplot(data=df,x='y')\n",
    "plt.show()"
   ]
  },
  {
   "cell_type": "code",
   "execution_count": 15,
   "id": "c32f9a45",
   "metadata": {},
   "outputs": [],
   "source": [
    "X = df.drop(['y'],axis=1)\n",
    "y = df['y']\n",
    "X = pd.get_dummies(X,drop_first=True)"
   ]
  },
  {
   "cell_type": "code",
   "execution_count": 16,
   "id": "c4cd5385",
   "metadata": {},
   "outputs": [],
   "source": [
    "#Making imports and scaling data\n",
    "from sklearn.model_selection import train_test_split\n",
    "from sklearn.preprocessing import StandardScaler"
   ]
  },
  {
   "cell_type": "code",
   "execution_count": 17,
   "id": "33aaee17",
   "metadata": {},
   "outputs": [],
   "source": [
    "scaler = StandardScaler()\n",
    "train_X,test_X,train_y,test_y = train_test_split(X,y,train_size=0.8,random_state=0)\n",
    "train_X = scaler.fit_transform(train_X)\n",
    "test_X = scaler.transform(test_X)"
   ]
  },
  {
   "cell_type": "code",
   "execution_count": 19,
   "id": "55624d2d",
   "metadata": {},
   "outputs": [],
   "source": [
    "from sklearn.linear_model import LogisticRegression\n",
    "model = LogisticRegression(max_iter=10000)\n",
    "model.fit(train_X,train_y)\n",
    "preds = model.predict(test_X)"
   ]
  },
  {
   "cell_type": "code",
   "execution_count": 24,
   "id": "85e7a10b",
   "metadata": {},
   "outputs": [
    {
     "name": "stdout",
     "output_type": "stream",
     "text": [
      "1.0\n",
      "[[28  0]\n",
      " [ 0 16]]\n",
      "1.0\n",
      "1.0\n"
     ]
    }
   ],
   "source": [
    "from sklearn.metrics import accuracy_score,confusion_matrix,precision_score,recall_score\n",
    "acc = accuracy_score(test_y,preds)\n",
    "cmatrix = confusion_matrix(test_y,preds)\n",
    "recall = recall_score(test_y,preds)\n",
    "precision = precision_score(test_y,preds)\n",
    "print(acc,cmatrix,recall,precision,sep='\\n')"
   ]
  }
 ],
 "metadata": {
  "kernelspec": {
   "display_name": "Python 3.6.9 64-bit",
   "language": "python",
   "name": "python369jvsc74a57bd031f2aee4e71d21fbe5cf8b01ff0e069b9275f58929596ceb00d14d90e3e16cd6"
  },
  "language_info": {
   "codemirror_mode": {
    "name": "ipython",
    "version": 3
   },
   "file_extension": ".py",
   "mimetype": "text/x-python",
   "name": "python",
   "nbconvert_exporter": "python",
   "pygments_lexer": "ipython3",
   "version": "3.6.9"
  }
 },
 "nbformat": 4,
 "nbformat_minor": 5
}
